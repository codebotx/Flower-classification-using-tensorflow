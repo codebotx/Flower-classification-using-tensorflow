{
  "cells": [
    {
      "cell_type": "markdown",
      "metadata": {
        "id": "hG9gxhAqVTBT"
      },
      "source": [
        "## Classification\n",
        "Now that we've covered linear regression it is time to talk about classification. Where regression was used to predict a numeric value, classification is used to seperate data points into classes of different labels. In this example we will use a TensorFlow estimator to classify flowers.\n",
        "\n",
        "Since we've touched on how estimators work earlier, I'll go a bit quicker through this example. \n",
        "\n",
        "This section is based on the following guide from the TensorFlow website.\n",
        "https://www.tensorflow.org/tutorials/estimator/premade\n",
        "\n",
        "\n"
      ]
    },
    {
      "cell_type": "markdown",
      "metadata": {
        "id": "iWk2Kb7Sdk-T"
      },
      "source": [
        "###Imports and Setup"
      ]
    },
    {
      "cell_type": "code",
      "execution_count": null,
      "metadata": {
        "colab": {
          "base_uri": "https://localhost:8080/",
          "height": 103
        },
        "id": "eH4_xJaD605_",
        "outputId": "cbe50069-f9c1-489e-ebdb-e08af4d7cea5"
      },
      "outputs": [
        {
          "name": "stdout",
          "output_type": "stream",
          "text": [
            "`%tensorflow_version` only switches the major version: 1.x or 2.x.\n",
            "You set: `2.x  # this line is not required unless you are in a notebook`. This will be interpreted as: `2.x`.\n",
            "\n",
            "\n",
            "TensorFlow is already loaded. Please restart the runtime to change versions.\n"
          ]
        }
      ],
      "source": [
        "%tensorflow_version 2.x  # this line is not required unless you are in a notebook"
      ]
    },
    {
      "cell_type": "code",
      "execution_count": null,
      "metadata": {
        "id": "TMiLc6LPdoPm"
      },
      "outputs": [],
      "source": [
        "from __future__ import absolute_import, division, print_function, unicode_literals\n",
        "\n",
        "\n",
        "import tensorflow as tf\n",
        "\n",
        "import pandas as pd"
      ]
    },
    {
      "cell_type": "markdown",
      "metadata": {
        "id": "9zLNzmkGds1U"
      },
      "source": [
        "###Dataset\n",
        "This specific dataset seperates flowers into 3 different classes of species.\n",
        "- Setosa\n",
        "- Versicolor\n",
        "- Virginica\n",
        "\n",
        "The information about each flower is the following.\n",
        "- sepal length\n",
        "- sepal width\n",
        "- petal length\n",
        "- petal width"
      ]
    },
    {
      "cell_type": "code",
      "execution_count": null,
      "metadata": {
        "id": "puOQDTNKeCRC"
      },
      "outputs": [],
      "source": [
        "CSV_COLUMN_NAMES = ['SepalLength', 'SepalWidth', 'PetalLength', 'PetalWidth', 'Species']\n",
        "SPECIES = ['Setosa', 'Versicolor', 'Virginica']\n",
        "# Lets define some constants to help us later on"
      ]
    },
    {
      "cell_type": "code",
      "execution_count": null,
      "metadata": {
        "colab": {
          "base_uri": "https://localhost:8080/",
          "height": 106
        },
        "id": "oMW41Wd9eLIo",
        "outputId": "4950908e-de50-4839-a569-a1f5acf015f8"
      },
      "outputs": [
        {
          "name": "stdout",
          "output_type": "stream",
          "text": [
            "Downloading data from https://storage.googleapis.com/download.tensorflow.org/data/iris_training.csv\n",
            "8192/2194 [================================================================================================================] - 0s 0us/step\n",
            "Downloading data from https://storage.googleapis.com/download.tensorflow.org/data/iris_test.csv\n",
            "8192/573 [============================================================================================================================================================================================================================================================================================================================================================================================================================================] - 0s 0us/step\n"
          ]
        }
      ],
      "source": [
        "train_path = tf.keras.utils.get_file(\n",
        "    \"iris_training.csv\", \"https://storage.googleapis.com/download.tensorflow.org/data/iris_training.csv\")\n",
        "test_path = tf.keras.utils.get_file(\n",
        "    \"iris_test.csv\", \"https://storage.googleapis.com/download.tensorflow.org/data/iris_test.csv\")\n",
        "\n",
        "train = pd.read_csv(train_path, names=CSV_COLUMN_NAMES, header=0)\n",
        "test = pd.read_csv(test_path, names=CSV_COLUMN_NAMES, header=0)\n",
        "# Here we use keras (a module inside of TensorFlow) to grab our datasets and read them into a pandas dataframe"
      ]
    },
    {
      "cell_type": "markdown",
      "metadata": {
        "id": "4aHRWY47ecdr"
      },
      "source": [
        "Let's have a look at our data."
      ]
    },
    {
      "cell_type": "code",
      "execution_count": null,
      "metadata": {
        "colab": {
          "base_uri": "https://localhost:8080/",
          "height": 201
        },
        "id": "BQ9uo6KkegBH",
        "outputId": "ed4b9d06-06da-4014-f04d-95bc35dc64ba"
      },
      "outputs": [
        {
          "data": {
            "text/html": [
              "<div>\n",
              "<style scoped>\n",
              "    .dataframe tbody tr th:only-of-type {\n",
              "        vertical-align: middle;\n",
              "    }\n",
              "\n",
              "    .dataframe tbody tr th {\n",
              "        vertical-align: top;\n",
              "    }\n",
              "\n",
              "    .dataframe thead th {\n",
              "        text-align: right;\n",
              "    }\n",
              "</style>\n",
              "<table border=\"1\" class=\"dataframe\">\n",
              "  <thead>\n",
              "    <tr style=\"text-align: right;\">\n",
              "      <th></th>\n",
              "      <th>SepalLength</th>\n",
              "      <th>SepalWidth</th>\n",
              "      <th>PetalLength</th>\n",
              "      <th>PetalWidth</th>\n",
              "      <th>Species</th>\n",
              "    </tr>\n",
              "  </thead>\n",
              "  <tbody>\n",
              "    <tr>\n",
              "      <th>0</th>\n",
              "      <td>6.4</td>\n",
              "      <td>2.8</td>\n",
              "      <td>5.6</td>\n",
              "      <td>2.2</td>\n",
              "      <td>2</td>\n",
              "    </tr>\n",
              "    <tr>\n",
              "      <th>1</th>\n",
              "      <td>5.0</td>\n",
              "      <td>2.3</td>\n",
              "      <td>3.3</td>\n",
              "      <td>1.0</td>\n",
              "      <td>1</td>\n",
              "    </tr>\n",
              "    <tr>\n",
              "      <th>2</th>\n",
              "      <td>4.9</td>\n",
              "      <td>2.5</td>\n",
              "      <td>4.5</td>\n",
              "      <td>1.7</td>\n",
              "      <td>2</td>\n",
              "    </tr>\n",
              "    <tr>\n",
              "      <th>3</th>\n",
              "      <td>4.9</td>\n",
              "      <td>3.1</td>\n",
              "      <td>1.5</td>\n",
              "      <td>0.1</td>\n",
              "      <td>0</td>\n",
              "    </tr>\n",
              "    <tr>\n",
              "      <th>4</th>\n",
              "      <td>5.7</td>\n",
              "      <td>3.8</td>\n",
              "      <td>1.7</td>\n",
              "      <td>0.3</td>\n",
              "      <td>0</td>\n",
              "    </tr>\n",
              "  </tbody>\n",
              "</table>\n",
              "</div>"
            ],
            "text/plain": [
              "   SepalLength  SepalWidth  PetalLength  PetalWidth  Species\n",
              "0          6.4         2.8          5.6         2.2        2\n",
              "1          5.0         2.3          3.3         1.0        1\n",
              "2          4.9         2.5          4.5         1.7        2\n",
              "3          4.9         3.1          1.5         0.1        0\n",
              "4          5.7         3.8          1.7         0.3        0"
            ]
          },
          "execution_count": 33,
          "metadata": {
            "tags": []
          },
          "output_type": "execute_result"
        }
      ],
      "source": [
        "train.head()"
      ]
    },
    {
      "cell_type": "markdown",
      "metadata": {
        "id": "7PzWyoE9eu8H"
      },
      "source": [
        "Now we can pop the species column off and use that as our label."
      ]
    },
    {
      "cell_type": "code",
      "execution_count": null,
      "metadata": {
        "colab": {
          "base_uri": "https://localhost:8080/",
          "height": 201
        },
        "id": "fP_nlslke4U8",
        "outputId": "560a0559-ebf8-43a8-bca7-4fa25d9c06ce"
      },
      "outputs": [
        {
          "data": {
            "text/html": [
              "<div>\n",
              "<style scoped>\n",
              "    .dataframe tbody tr th:only-of-type {\n",
              "        vertical-align: middle;\n",
              "    }\n",
              "\n",
              "    .dataframe tbody tr th {\n",
              "        vertical-align: top;\n",
              "    }\n",
              "\n",
              "    .dataframe thead th {\n",
              "        text-align: right;\n",
              "    }\n",
              "</style>\n",
              "<table border=\"1\" class=\"dataframe\">\n",
              "  <thead>\n",
              "    <tr style=\"text-align: right;\">\n",
              "      <th></th>\n",
              "      <th>SepalLength</th>\n",
              "      <th>SepalWidth</th>\n",
              "      <th>PetalLength</th>\n",
              "      <th>PetalWidth</th>\n",
              "    </tr>\n",
              "  </thead>\n",
              "  <tbody>\n",
              "    <tr>\n",
              "      <th>0</th>\n",
              "      <td>6.4</td>\n",
              "      <td>2.8</td>\n",
              "      <td>5.6</td>\n",
              "      <td>2.2</td>\n",
              "    </tr>\n",
              "    <tr>\n",
              "      <th>1</th>\n",
              "      <td>5.0</td>\n",
              "      <td>2.3</td>\n",
              "      <td>3.3</td>\n",
              "      <td>1.0</td>\n",
              "    </tr>\n",
              "    <tr>\n",
              "      <th>2</th>\n",
              "      <td>4.9</td>\n",
              "      <td>2.5</td>\n",
              "      <td>4.5</td>\n",
              "      <td>1.7</td>\n",
              "    </tr>\n",
              "    <tr>\n",
              "      <th>3</th>\n",
              "      <td>4.9</td>\n",
              "      <td>3.1</td>\n",
              "      <td>1.5</td>\n",
              "      <td>0.1</td>\n",
              "    </tr>\n",
              "    <tr>\n",
              "      <th>4</th>\n",
              "      <td>5.7</td>\n",
              "      <td>3.8</td>\n",
              "      <td>1.7</td>\n",
              "      <td>0.3</td>\n",
              "    </tr>\n",
              "  </tbody>\n",
              "</table>\n",
              "</div>"
            ],
            "text/plain": [
              "   SepalLength  SepalWidth  PetalLength  PetalWidth\n",
              "0          6.4         2.8          5.6         2.2\n",
              "1          5.0         2.3          3.3         1.0\n",
              "2          4.9         2.5          4.5         1.7\n",
              "3          4.9         3.1          1.5         0.1\n",
              "4          5.7         3.8          1.7         0.3"
            ]
          },
          "execution_count": 34,
          "metadata": {
            "tags": []
          },
          "output_type": "execute_result"
        }
      ],
      "source": [
        "train_y = train.pop('Species')\n",
        "test_y = test.pop('Species')\n",
        "train.head() # the species column is now gone"
      ]
    },
    {
      "cell_type": "code",
      "execution_count": null,
      "metadata": {
        "colab": {
          "base_uri": "https://localhost:8080/",
          "height": 34
        },
        "id": "3oVw2zRkfTXq",
        "outputId": "a25c814d-63e4-40da-9ac9-6efc326164b2"
      },
      "outputs": [
        {
          "data": {
            "text/plain": [
              "(120, 4)"
            ]
          },
          "execution_count": 35,
          "metadata": {
            "tags": []
          },
          "output_type": "execute_result"
        }
      ],
      "source": [
        "train.shape  # we have 120 entires with 4 features"
      ]
    },
    {
      "cell_type": "markdown",
      "metadata": {
        "id": "V6ZWVZs8fg-H"
      },
      "source": [
        "###Input Function\n",
        "Remember that nasty input function we created earlier. Well we need to make another one here! Fortunatly for us this one is a little easier to digest."
      ]
    },
    {
      "cell_type": "code",
      "execution_count": null,
      "metadata": {
        "id": "K-NQRLv_fyhg"
      },
      "outputs": [],
      "source": [
        "def input_fn(features, labels, training=True, batch_size=256):\n",
        "    # Convert the inputs to a Dataset.\n",
        "    dataset = tf.data.Dataset.from_tensor_slices((dict(features), labels))\n",
        "\n",
        "    # Shuffle and repeat if you are in training mode.\n",
        "    if training:\n",
        "        dataset = dataset.shuffle(1000).repeat()\n",
        "    \n",
        "    return dataset.batch(batch_size)\n"
      ]
    },
    {
      "cell_type": "markdown",
      "metadata": {
        "id": "FL--3OAnf4mO"
      },
      "source": [
        "###Feature Columns\n",
        "And you didn't think we forgot about the feature columns, did you?\n",
        "\n"
      ]
    },
    {
      "cell_type": "code",
      "execution_count": null,
      "metadata": {
        "colab": {
          "base_uri": "https://localhost:8080/",
          "height": 54
        },
        "id": "nErIJJbggQ5w",
        "outputId": "837852b1-97a0-4965-88fc-50883dfb558c"
      },
      "outputs": [
        {
          "name": "stdout",
          "output_type": "stream",
          "text": [
            "[NumericColumn(key='SepalLength', shape=(1,), default_value=None, dtype=tf.float32, normalizer_fn=None), NumericColumn(key='SepalWidth', shape=(1,), default_value=None, dtype=tf.float32, normalizer_fn=None), NumericColumn(key='PetalLength', shape=(1,), default_value=None, dtype=tf.float32, normalizer_fn=None), NumericColumn(key='PetalWidth', shape=(1,), default_value=None, dtype=tf.float32, normalizer_fn=None)]\n"
          ]
        }
      ],
      "source": [
        "# Feature columns describe how to use the input.\n",
        "my_feature_columns = []\n",
        "for key in train.keys():\n",
        "    my_feature_columns.append(tf.feature_column.numeric_column(key=key))\n",
        "print(my_feature_columns)"
      ]
    },
    {
      "cell_type": "markdown",
      "metadata": {
        "id": "5kl1Wr_Xgpmv"
      },
      "source": [
        "###Building the Model\n",
        "And now we are ready to choose a model. For classification tasks there are variety of different estimators/models that we can pick from. Some options are listed below.\n",
        "- ```DNNClassifier``` (Deep Neural Network)\n",
        "- ```LinearClassifier```\n",
        "\n",
        "We can choose either model but the DNN seems to be the best choice. This is because we may not be able to find a linear coorespondence in our data. \n",
        "\n",
        "So let's build a model!"
      ]
    },
    {
      "cell_type": "code",
      "execution_count": null,
      "metadata": {
        "colab": {
          "base_uri": "https://localhost:8080/",
          "height": 192
        },
        "id": "n7YVQowgiDak",
        "outputId": "bd9457f3-7d30-456c-aa8b-3d160c0f751f"
      },
      "outputs": [
        {
          "name": "stdout",
          "output_type": "stream",
          "text": [
            "INFO:tensorflow:Using default config.\n",
            "WARNING:tensorflow:Using temporary folder as model directory: /tmp/tmpqaqtrlgy\n",
            "INFO:tensorflow:Using config: {'_model_dir': '/tmp/tmpqaqtrlgy', '_tf_random_seed': None, '_save_summary_steps': 100, '_save_checkpoints_steps': None, '_save_checkpoints_secs': 600, '_session_config': allow_soft_placement: true\n",
            "graph_options {\n",
            "  rewrite_options {\n",
            "    meta_optimizer_iterations: ONE\n",
            "  }\n",
            "}\n",
            ", '_keep_checkpoint_max': 5, '_keep_checkpoint_every_n_hours': 10000, '_log_step_count_steps': 100, '_train_distribute': None, '_device_fn': None, '_protocol': None, '_eval_distribute': None, '_experimental_distribute': None, '_experimental_max_worker_delay_secs': None, '_session_creation_timeout_secs': 7200, '_service': None, '_cluster_spec': ClusterSpec({}), '_task_type': 'worker', '_task_id': 0, '_global_id_in_cluster': 0, '_master': '', '_evaluation_master': '', '_is_chief': True, '_num_ps_replicas': 0, '_num_worker_replicas': 1}\n"
          ]
        }
      ],
      "source": [
        "# Build a DNN with 2 hidden layers with 30 and 10 hidden nodes each.\n",
        "classifier = tf.estimator.DNNClassifier(\n",
        "    feature_columns=my_feature_columns,\n",
        "    # Two hidden layers of 30 and 10 nodes respectively.\n",
        "    hidden_units=[30, 10],\n",
        "    # The model must choose between 3 classes.\n",
        "    n_classes=3)"
      ]
    },
    {
      "cell_type": "markdown",
      "metadata": {
        "id": "jQ_SJAMuiF6p"
      },
      "source": [
        "What we've just done is created a deep neural network that has two hidden layers. These layers have 30 and 10 neurons respectively. This is the number of neurons the TensorFlow official tutorial uses so we'll stick with it. However, it is worth mentioning that the number of hidden neurons is an arbitrary number and many experiments and tests are usually done to determine the best choice for these values. Try playing around with the number of hidden neurons and see if your results change."
      ]
    },
    {
      "cell_type": "markdown",
      "metadata": {
        "id": "NBHnWYKTjV5D"
      },
      "source": [
        "###Training\n",
        "Now it's time to train the model!"
      ]
    },
    {
      "cell_type": "code",
      "execution_count": null,
      "metadata": {
        "colab": {
          "base_uri": "https://localhost:8080/",
          "height": 1000
        },
        "id": "INug63pCjaOw",
        "outputId": "3eb6211c-9fd1-4748-8e2e-31e64b4ec698"
      },
      "outputs": [
        {
          "name": "stdout",
          "output_type": "stream",
          "text": [
            "INFO:tensorflow:Calling model_fn.\n",
            "WARNING:tensorflow:Layer dnn is casting an input tensor from dtype float64 to the layer's dtype of float32, which is new behavior in TensorFlow 2.  The layer has dtype float32 because it's dtype defaults to floatx.\n",
            "\n",
            "If you intended to run this layer in float32, you can safely ignore this warning. If in doubt, this warning is likely only an issue if you are porting a TensorFlow 1.X model to TensorFlow 2.\n",
            "\n",
            "To change all layers to have dtype float64 by default, call `tf.keras.backend.set_floatx('float64')`. To change just this layer, pass dtype='float64' to the layer constructor. If you are the author of this layer, you can disable autocasting by passing autocast=False to the base Layer constructor.\n",
            "\n",
            "INFO:tensorflow:Done calling model_fn.\n",
            "INFO:tensorflow:Create CheckpointSaverHook.\n",
            "INFO:tensorflow:Graph was finalized.\n",
            "INFO:tensorflow:Running local_init_op.\n",
            "INFO:tensorflow:Done running local_init_op.\n",
            "INFO:tensorflow:Calling checkpoint listeners before saving checkpoint 0...\n",
            "INFO:tensorflow:Saving checkpoints for 0 into /tmp/tmpqaqtrlgy/model.ckpt.\n",
            "INFO:tensorflow:Calling checkpoint listeners after saving checkpoint 0...\n",
            "INFO:tensorflow:loss = 1.1511875, step = 0\n",
            "INFO:tensorflow:global_step/sec: 497.034\n",
            "INFO:tensorflow:loss = 0.9358924, step = 100 (0.208 sec)\n",
            "INFO:tensorflow:global_step/sec: 636.632\n",
            "INFO:tensorflow:loss = 0.90521353, step = 200 (0.154 sec)\n",
            "INFO:tensorflow:global_step/sec: 654.875\n",
            "INFO:tensorflow:loss = 0.8495918, step = 300 (0.153 sec)\n",
            "INFO:tensorflow:global_step/sec: 651.748\n",
            "INFO:tensorflow:loss = 0.82983136, step = 400 (0.153 sec)\n",
            "INFO:tensorflow:global_step/sec: 655.704\n",
            "INFO:tensorflow:loss = 0.7790096, step = 500 (0.154 sec)\n",
            "INFO:tensorflow:global_step/sec: 667.452\n",
            "INFO:tensorflow:loss = 0.7574419, step = 600 (0.149 sec)\n",
            "INFO:tensorflow:global_step/sec: 675.438\n",
            "INFO:tensorflow:loss = 0.7266582, step = 700 (0.148 sec)\n",
            "INFO:tensorflow:global_step/sec: 666.098\n",
            "INFO:tensorflow:loss = 0.7117815, step = 800 (0.150 sec)\n",
            "INFO:tensorflow:global_step/sec: 659.401\n",
            "INFO:tensorflow:loss = 0.6849373, step = 900 (0.150 sec)\n",
            "INFO:tensorflow:global_step/sec: 664.227\n",
            "INFO:tensorflow:loss = 0.6696919, step = 1000 (0.150 sec)\n",
            "INFO:tensorflow:global_step/sec: 674.756\n",
            "INFO:tensorflow:loss = 0.6453049, step = 1100 (0.151 sec)\n",
            "INFO:tensorflow:global_step/sec: 664.265\n",
            "INFO:tensorflow:loss = 0.63444245, step = 1200 (0.150 sec)\n",
            "INFO:tensorflow:global_step/sec: 646.941\n",
            "INFO:tensorflow:loss = 0.61837286, step = 1300 (0.155 sec)\n",
            "INFO:tensorflow:global_step/sec: 675.566\n",
            "INFO:tensorflow:loss = 0.60927534, step = 1400 (0.149 sec)\n",
            "INFO:tensorflow:global_step/sec: 693.653\n",
            "INFO:tensorflow:loss = 0.59321785, step = 1500 (0.144 sec)\n",
            "INFO:tensorflow:global_step/sec: 643.728\n",
            "INFO:tensorflow:loss = 0.5786046, step = 1600 (0.155 sec)\n",
            "INFO:tensorflow:global_step/sec: 640.974\n",
            "INFO:tensorflow:loss = 0.5679003, step = 1700 (0.156 sec)\n",
            "INFO:tensorflow:global_step/sec: 668.473\n",
            "INFO:tensorflow:loss = 0.55420506, step = 1800 (0.147 sec)\n",
            "INFO:tensorflow:global_step/sec: 683.02\n",
            "INFO:tensorflow:loss = 0.51620936, step = 1900 (0.149 sec)\n",
            "INFO:tensorflow:global_step/sec: 668.192\n",
            "INFO:tensorflow:loss = 0.5385388, step = 2000 (0.149 sec)\n",
            "INFO:tensorflow:global_step/sec: 689.724\n",
            "INFO:tensorflow:loss = 0.523809, step = 2100 (0.143 sec)\n",
            "INFO:tensorflow:global_step/sec: 674.861\n",
            "INFO:tensorflow:loss = 0.50772285, step = 2200 (0.150 sec)\n",
            "INFO:tensorflow:global_step/sec: 645.258\n",
            "INFO:tensorflow:loss = 0.49664536, step = 2300 (0.155 sec)\n",
            "INFO:tensorflow:global_step/sec: 664.988\n",
            "INFO:tensorflow:loss = 0.49152842, step = 2400 (0.148 sec)\n",
            "INFO:tensorflow:global_step/sec: 676.346\n",
            "INFO:tensorflow:loss = 0.4791621, step = 2500 (0.150 sec)\n",
            "INFO:tensorflow:global_step/sec: 682.166\n",
            "INFO:tensorflow:loss = 0.46931824, step = 2600 (0.146 sec)\n",
            "INFO:tensorflow:global_step/sec: 632.973\n",
            "INFO:tensorflow:loss = 0.46762398, step = 2700 (0.159 sec)\n",
            "INFO:tensorflow:global_step/sec: 666.066\n",
            "INFO:tensorflow:loss = 0.44671822, step = 2800 (0.148 sec)\n",
            "INFO:tensorflow:global_step/sec: 663.873\n",
            "INFO:tensorflow:loss = 0.44892073, step = 2900 (0.151 sec)\n",
            "INFO:tensorflow:global_step/sec: 639.968\n",
            "INFO:tensorflow:loss = 0.44627833, step = 3000 (0.159 sec)\n",
            "INFO:tensorflow:global_step/sec: 676.9\n",
            "INFO:tensorflow:loss = 0.4288814, step = 3100 (0.147 sec)\n",
            "INFO:tensorflow:global_step/sec: 658.251\n",
            "INFO:tensorflow:loss = 0.43346274, step = 3200 (0.150 sec)\n",
            "INFO:tensorflow:global_step/sec: 664.476\n",
            "INFO:tensorflow:loss = 0.42365474, step = 3300 (0.153 sec)\n",
            "INFO:tensorflow:global_step/sec: 680.291\n",
            "INFO:tensorflow:loss = 0.41678685, step = 3400 (0.145 sec)\n",
            "INFO:tensorflow:global_step/sec: 682.509\n",
            "INFO:tensorflow:loss = 0.41475928, step = 3500 (0.150 sec)\n",
            "INFO:tensorflow:global_step/sec: 564.669\n",
            "INFO:tensorflow:loss = 0.40962964, step = 3600 (0.178 sec)\n",
            "INFO:tensorflow:global_step/sec: 643.631\n",
            "INFO:tensorflow:loss = 0.40175164, step = 3700 (0.154 sec)\n",
            "INFO:tensorflow:global_step/sec: 675.225\n",
            "INFO:tensorflow:loss = 0.39052343, step = 3800 (0.148 sec)\n",
            "INFO:tensorflow:global_step/sec: 666.891\n",
            "INFO:tensorflow:loss = 0.39769873, step = 3900 (0.150 sec)\n",
            "INFO:tensorflow:global_step/sec: 666.438\n",
            "INFO:tensorflow:loss = 0.386145, step = 4000 (0.148 sec)\n",
            "INFO:tensorflow:global_step/sec: 685.811\n",
            "INFO:tensorflow:loss = 0.39405277, step = 4100 (0.146 sec)\n",
            "INFO:tensorflow:global_step/sec: 682.425\n",
            "INFO:tensorflow:loss = 0.37922394, step = 4200 (0.148 sec)\n",
            "INFO:tensorflow:global_step/sec: 661.11\n",
            "INFO:tensorflow:loss = 0.37118322, step = 4300 (0.150 sec)\n",
            "INFO:tensorflow:global_step/sec: 670.221\n",
            "INFO:tensorflow:loss = 0.36706787, step = 4400 (0.149 sec)\n",
            "INFO:tensorflow:global_step/sec: 681.885\n",
            "INFO:tensorflow:loss = 0.3653447, step = 4500 (0.146 sec)\n",
            "INFO:tensorflow:global_step/sec: 682.826\n",
            "INFO:tensorflow:loss = 0.3557425, step = 4600 (0.147 sec)\n",
            "INFO:tensorflow:global_step/sec: 665.897\n",
            "INFO:tensorflow:loss = 0.36362734, step = 4700 (0.152 sec)\n",
            "INFO:tensorflow:global_step/sec: 671.864\n",
            "INFO:tensorflow:loss = 0.3526679, step = 4800 (0.149 sec)\n",
            "INFO:tensorflow:global_step/sec: 662.965\n",
            "INFO:tensorflow:loss = 0.35308143, step = 4900 (0.151 sec)\n",
            "INFO:tensorflow:Calling checkpoint listeners before saving checkpoint 5000...\n",
            "INFO:tensorflow:Saving checkpoints for 5000 into /tmp/tmpqaqtrlgy/model.ckpt.\n",
            "INFO:tensorflow:Calling checkpoint listeners after saving checkpoint 5000...\n",
            "INFO:tensorflow:Loss for final step: 0.34763944.\n"
          ]
        },
        {
          "data": {
            "text/plain": [
              "<tensorflow_estimator.python.estimator.canned.dnn.DNNClassifierV2 at 0x7f6807b4ca20>"
            ]
          },
          "execution_count": 39,
          "metadata": {
            "tags": []
          },
          "output_type": "execute_result"
        }
      ],
      "source": [
        "classifier.train(\n",
        "    input_fn=lambda: input_fn(train, train_y, training=True),\n",
        "    steps=5000)\n",
        "# We include a lambda to avoid creating an inner function previously"
      ]
    },
    {
      "cell_type": "markdown",
      "metadata": {
        "id": "57oNBLV1j0wc"
      },
      "source": [
        "The only thing to explain here is the **steps** argument. This simply tells the classifier to run for 5000 steps. Try modifiying this and seeing if your results change. Keep in mind that more is not always better."
      ]
    },
    {
      "cell_type": "markdown",
      "metadata": {
        "id": "5suI1lmskE7p"
      },
      "source": [
        "###Evaluation\n",
        "Now let's see how this trained model does!"
      ]
    },
    {
      "cell_type": "code",
      "execution_count": null,
      "metadata": {
        "colab": {
          "base_uri": "https://localhost:8080/",
          "height": 381
        },
        "id": "23rIrgbxkJUO",
        "outputId": "24767659-81cb-436f-a3c5-3fb19fcf53b2"
      },
      "outputs": [
        {
          "name": "stdout",
          "output_type": "stream",
          "text": [
            "INFO:tensorflow:Calling model_fn.\n",
            "WARNING:tensorflow:Layer dnn is casting an input tensor from dtype float64 to the layer's dtype of float32, which is new behavior in TensorFlow 2.  The layer has dtype float32 because it's dtype defaults to floatx.\n",
            "\n",
            "If you intended to run this layer in float32, you can safely ignore this warning. If in doubt, this warning is likely only an issue if you are porting a TensorFlow 1.X model to TensorFlow 2.\n",
            "\n",
            "To change all layers to have dtype float64 by default, call `tf.keras.backend.set_floatx('float64')`. To change just this layer, pass dtype='float64' to the layer constructor. If you are the author of this layer, you can disable autocasting by passing autocast=False to the base Layer constructor.\n",
            "\n",
            "INFO:tensorflow:Done calling model_fn.\n",
            "INFO:tensorflow:Starting evaluation at 2020-06-19T18:22:07Z\n",
            "INFO:tensorflow:Graph was finalized.\n",
            "INFO:tensorflow:Restoring parameters from /tmp/tmpqaqtrlgy/model.ckpt-5000\n",
            "INFO:tensorflow:Running local_init_op.\n",
            "INFO:tensorflow:Done running local_init_op.\n",
            "INFO:tensorflow:Inference Time : 0.20221s\n",
            "INFO:tensorflow:Finished evaluation at 2020-06-19-18:22:08\n",
            "INFO:tensorflow:Saving dict for global step 5000: accuracy = 0.93333334, average_loss = 0.41360682, global_step = 5000, loss = 0.41360682\n",
            "INFO:tensorflow:Saving 'checkpoint_path' summary for global step 5000: /tmp/tmpqaqtrlgy/model.ckpt-5000\n",
            "\n",
            "Test set accuracy: 0.933\n",
            "\n"
          ]
        }
      ],
      "source": [
        "eval_result = classifier.evaluate(\n",
        "    input_fn=lambda: input_fn(test, test_y, training=False))\n",
        "\n",
        "print('\\nTest set accuracy: {accuracy:0.3f}\\n'.format(**eval_result))"
      ]
    },
    {
      "cell_type": "markdown",
      "metadata": {
        "id": "4v1ZMe7jkXdp"
      },
      "source": [
        "Notice this time we didn't specify the number of steps. This is because during evaluation the model will only look at the testing data one time."
      ]
    },
    {
      "cell_type": "markdown",
      "metadata": {
        "id": "464HkZ6lknua"
      },
      "source": [
        "### Predictions\n",
        "Now that we have a trained model it's time to use it to make predictions. I've written a little script below that allows you to type the features of a flower and see a prediction for its class."
      ]
    },
    {
      "cell_type": "code",
      "execution_count": null,
      "metadata": {
        "colab": {
          "base_uri": "https://localhost:8080/",
          "height": 344
        },
        "id": "bQRLq4M1k1jm",
        "outputId": "f720852e-66e9-448e-bddf-ce33ce98cc61"
      },
      "outputs": [
        {
          "name": "stdout",
          "output_type": "stream",
          "text": [
            "Please type numeric values as prompted.\n",
            "SepalLength: 23\n",
            "SepalLength: 12\n",
            "SepalLength: 12\n",
            "SepalLength: 3\n",
            "SepalLength: 4\n",
            "SepalLength: 2\n",
            "SepalLength: 0.5\n",
            "SepalWidth: 2\n",
            "SepalWidth: 0.4\n",
            "PetalLength: 0.5\n",
            "PetalWidth: 0.3\n",
            "INFO:tensorflow:Calling model_fn.\n",
            "INFO:tensorflow:Done calling model_fn.\n",
            "INFO:tensorflow:Graph was finalized.\n",
            "INFO:tensorflow:Restoring parameters from /tmp/tmpqaqtrlgy/model.ckpt-5000\n",
            "INFO:tensorflow:Running local_init_op.\n",
            "INFO:tensorflow:Done running local_init_op.\n",
            "Prediction is \"Setosa\" (38.2%)\n"
          ]
        }
      ],
      "source": [
        "def input_fn(features, batch_size=256):\n",
        "    # Convert the inputs to a Dataset without labels.\n",
        "    return tf.data.Dataset.from_tensor_slices(dict(features)).batch(batch_size)\n",
        "\n",
        "features = ['SepalLength', 'SepalWidth', 'PetalLength', 'PetalWidth']\n",
        "predict = {}\n",
        "\n",
        "print(\"Please type numeric values as prompted.\")\n",
        "for feature in features:\n",
        "  valid = True\n",
        "  while valid: \n",
        "    val = input(feature + \": \")\n",
        "    if not val.isdigit(): valid = False\n",
        "\n",
        "  predict[feature] = [float(val)]\n",
        "\n",
        "predictions = classifier.predict(input_fn=lambda: input_fn(predict))\n",
        "for pred_dict in predictions:\n",
        "    class_id = pred_dict['class_ids'][0]\n",
        "    probability = pred_dict['probabilities'][class_id]\n",
        "\n",
        "    print('Prediction is \"{}\" ({:.1f}%)'.format(\n",
        "        SPECIES[class_id], 100 * probability))\n"
      ]
    },
    {
      "cell_type": "code",
      "execution_count": null,
      "metadata": {
        "id": "-tRxhpmSr1FH"
      },
      "outputs": [],
      "source": [
        "# Here is some example input and expected classes you can try above\n",
        "expected = ['Setosa', 'Versicolor', 'Virginica']\n",
        "predict_x = {\n",
        "    'SepalLength': [5.1, 5.9, 6.9],\n",
        "    'SepalWidth': [3.3, 3.0, 3.1],\n",
        "    'PetalLength': [1.7, 4.2, 5.4],\n",
        "    'PetalWidth': [0.5, 1.5, 2.1],\n",
        "}"
      ]
    },
    {
      "cell_type": "markdown",
      "metadata": {
        "id": "ujwvc6ASsHID"
      },
      "source": [
        "And that's pretty much it for classification! "
      ]
    },
    {
      "cell_type": "markdown",
      "metadata": {
        "id": "d0dfaT4esRh3"
      },
      "source": [
        "##Clustering\n",
        "Now that we've covered regression and classification it's time to talk about clustering data! \n",
        "\n",
        "Clustering is a Machine Learning technique that involves the grouping of data points. In theory, data points that are in the same group should have similar properties and/or features, while data points in different groups should have highly dissimilar properties and/or features. (https://towardsdatascience.com/the-5-clustering-algorithms-data-scientists-need-to-know-a36d136ef68)\n",
        "\n",
        "Unfortunalty there are issues with the current version of TensorFlow and the implementation for KMeans. This means we cannot use KMeans without writing the algorithm from scratch. We aren't quite at that level yet, so we'll just explain the basics of clustering for now.\n",
        "\n",
        "####Basic Algorithm for K-Means.\n",
        "- Step 1: Randomly pick K points to place K centroids\n",
        "- Step 2: Assign all the data points to the centroids by distance. The closest centroid to a point is the one it is assigned to.\n",
        "- Step 3: Average all the points belonging to each centroid to find the middle of those clusters (center of mass). Place the corresponding centroids into that position.\n",
        "- Step 4: Reassign every point once again to the closest centroid.\n",
        "- Step 5: Repeat steps 3-4 until no point changes which centroid it belongs to.\n",
        "\n",
        "*Please refer to the video for an explanation of KMeans clustering.*"
      ]
    },
    {
      "cell_type": "markdown",
      "metadata": {
        "id": "sQ9iJrSbBTZB"
      },
      "source": [
        "##Hidden Markov Models\n",
        "\n",
        "\"The Hidden Markov Model is a finite set of states, each of which is associated with a (generally multidimensional) probability distribution []. Transitions among the states are governed by a set of probabilities called transition probabilities.\" (http://jedlik.phy.bme.hu/~gerjanos/HMM/node4.html)\n",
        "\n",
        "A hidden markov model works with probabilities to predict future events or states. In this section we will learn how to create a hidden markov model that can predict the weather.\n",
        "\n",
        "*This section is based on the following TensorFlow tutorial.* https://www.tensorflow.org/probability/api_docs/python/tfp/distributions/HiddenMarkovModel"
      ]
    },
    {
      "cell_type": "markdown",
      "metadata": {
        "id": "RKJSFk4NP0eq"
      },
      "source": [
        "###Data\n",
        "Let's start by discussing the type of data we use when we work with a hidden markov model. \n",
        "\n",
        "In the previous sections we worked with large datasets of 100's of different entries. For a markov model we are only interested in probability distributions that have to do with states. \n",
        "\n",
        "We can find these probabilities from large datasets or may already have these values. We'll run through an example in a second that should clear some things up, but let's discuss the components of a markov model.\n",
        "\n",
        "**States:** In each markov model we have a finite set of states. These states could be something like \"warm\" and \"cold\" or \"high\" and \"low\" or even \"red\", \"green\" and \"blue\". These states are \"hidden\" within the model, which means we do not direcly observe them.\n",
        "\n",
        "**Observations:** Each state has a particular outcome or observation associated with it based on a probability distribution. An example of this is the following: *On a hot day Tim has a 80% chance of being happy and a 20% chance of being sad.*\n",
        "\n",
        "**Transitions:** Each state will have a probability defining the likelyhood of transitioning to a different state. An example is the following: *a cold day has a 30% chance of being followed by a hot day and a 70% chance of being follwed by another cold day.*\n",
        "\n",
        "To create a hidden markov model we need.\n",
        "- States\n",
        "- Observation Distribution\n",
        "- Transition Distribution\n",
        "\n",
        "For our purpose we will assume we already have this information available as we attempt to predict the weather on a given day."
      ]
    },
    {
      "cell_type": "markdown",
      "metadata": {
        "id": "iK2QbOzr6jNJ"
      },
      "source": [
        "###Imports and Setup"
      ]
    },
    {
      "cell_type": "code",
      "execution_count": null,
      "metadata": {
        "colab": {
          "base_uri": "https://localhost:8080/",
          "height": 103
        },
        "id": "Suf1v8kJ6niA",
        "outputId": "f12c7178-cc43-42cd-92c3-8084d5d61637"
      },
      "outputs": [
        {
          "name": "stdout",
          "output_type": "stream",
          "text": [
            "`%tensorflow_version` only switches the major version: 1.x or 2.x.\n",
            "You set: `2.x  # this line is not required unless you are in a notebook`. This will be interpreted as: `2.x`.\n",
            "\n",
            "\n",
            "TensorFlow is already loaded. Please restart the runtime to change versions.\n"
          ]
        }
      ],
      "source": [
        "%tensorflow_version 2.x  # this line is not required unless you are in a notebook"
      ]
    },
    {
      "cell_type": "markdown",
      "metadata": {
        "id": "GN_Fkrx30xbb"
      },
      "source": [
        "Due to a version mismatch with tensorflow v2 and tensorflow_probability we need to install the most recent version of tensorflow_probability (see below)."
      ]
    },
    {
      "cell_type": "code",
      "execution_count": null,
      "metadata": {
        "colab": {
          "base_uri": "https://localhost:8080/",
          "height": 293
        },
        "id": "kawrMHKGBWyS",
        "outputId": "ad6d30ff-e53a-4776-825d-c18e2b0728cc"
      },
      "outputs": [
        {
          "name": "stdout",
          "output_type": "stream",
          "text": [
            "Collecting tensorflow_probability==0.8.0rc0\n",
            "\u001b[?25l  Downloading https://files.pythonhosted.org/packages/b2/63/f54ce32063abaa682d779e44b49eb63fcf63c2422f978842fdeda794337d/tensorflow_probability-0.8.0rc0-py2.py3-none-any.whl (2.5MB)\n",
            "\u001b[K     |████████████████████████████████| 2.5MB 2.7MB/s \n",
            "\u001b[?25hRequirement already satisfied, skipping upgrade: decorator in /usr/local/lib/python3.6/dist-packages (from tensorflow_probability==0.8.0rc0) (4.4.2)\n",
            "Collecting cloudpickle==1.1.1\n",
            "  Downloading https://files.pythonhosted.org/packages/24/fb/4f92f8c0f40a0d728b4f3d5ec5ff84353e705d8ff5e3e447620ea98b06bd/cloudpickle-1.1.1-py2.py3-none-any.whl\n",
            "Requirement already satisfied, skipping upgrade: six>=1.10.0 in /usr/local/lib/python3.6/dist-packages (from tensorflow_probability==0.8.0rc0) (1.12.0)\n",
            "Requirement already satisfied, skipping upgrade: numpy>=1.13.3 in /usr/local/lib/python3.6/dist-packages (from tensorflow_probability==0.8.0rc0) (1.18.5)\n",
            "\u001b[31mERROR: gym 0.17.2 has requirement cloudpickle<1.4.0,>=1.2.0, but you'll have cloudpickle 1.1.1 which is incompatible.\u001b[0m\n",
            "Installing collected packages: cloudpickle, tensorflow-probability\n",
            "Successfully installed cloudpickle-1.1.1 tensorflow-probability-0.8.0rc0\n"
          ]
        },
        {
          "data": {
            "application/vnd.colab-display-data+json": {
              "pip_warning": {
                "packages": [
                  "cloudpickle"
                ]
              }
            }
          },
          "metadata": {
            "tags": []
          },
          "output_type": "display_data"
        }
      ],
      "source": [
        "!pip install tensorflow_probability==0.8.0rc0 --user --upgrade"
      ]
    },
    {
      "cell_type": "code",
      "execution_count": null,
      "metadata": {
        "id": "mEIk7FYD6lcF"
      },
      "outputs": [],
      "source": [
        "import tensorflow_probability as tfp  # We are using a different module from tensorflow this time\n",
        "import tensorflow as tf"
      ]
    },
    {
      "cell_type": "markdown",
      "metadata": {
        "id": "ssOcn-nIOCcV"
      },
      "source": [
        "###Weather Model\n",
        "Taken direclty from the TensorFlow documentation (https://www.tensorflow.org/probability/api_docs/python/tfp/distributions/HiddenMarkovModel). \n",
        "\n",
        "We will model a simple weather system and try to predict the temperature on each day given the following information.\n",
        "1. Cold days are encoded by a 0 and hot days are encoded by a 1.\n",
        "2. The first day in our sequence has an 80% chance of being cold.\n",
        "3. A cold day has a 30% chance of being followed by a hot day.\n",
        "4. A hot day has a 20% chance of being followed by a cold day.\n",
        "5. On each day the temperature is\n",
        " normally distributed with mean and standard deviation 0 and 5 on\n",
        " a cold day and mean and standard deviation 15 and 10 on a hot day.\n",
        "\n",
        "If you're unfamiliar with **standard deviation** it can be put simply as the range of expected values. \n",
        "\n",
        "In this example, on a hot day the average temperature is 15 and ranges from 5 to 25.\n",
        "\n",
        "To model this in TensorFlow we will do the following.\n"
      ]
    },
    {
      "cell_type": "code",
      "execution_count": null,
      "metadata": {
        "id": "4LBLEJp4YlIf"
      },
      "outputs": [],
      "source": [
        "tfd = tfp.distributions  # making a shortcut for later on\n",
        "initial_distribution = tfd.Categorical(probs=[0.2, 0.8])  # Refer to point 2 above\n",
        "transition_distribution = tfd.Categorical(probs=[[0.5, 0.5],\n",
        "                                                 [0.2, 0.8]])  # refer to points 3 and 4 above\n",
        "observation_distribution = tfd.Normal(loc=[0., 15.], scale=[5., 10.])  # refer to point 5 above\n",
        "\n",
        "# the loc argument represents the mean and the scale is the standard devitation"
      ]
    },
    {
      "cell_type": "markdown",
      "metadata": {
        "id": "-XtTg0l04mqc"
      },
      "source": [
        "We've now created distribution variables to model our system and it's time to create the hidden markov model."
      ]
    },
    {
      "cell_type": "code",
      "execution_count": null,
      "metadata": {
        "id": "P4M6cZww4mZk"
      },
      "outputs": [],
      "source": [
        "model = tfd.HiddenMarkovModel(\n",
        "    initial_distribution=initial_distribution,\n",
        "    transition_distribution=transition_distribution,\n",
        "    observation_distribution=observation_distribution,\n",
        "    num_steps=7)"
      ]
    },
    {
      "cell_type": "markdown",
      "metadata": {
        "id": "DJ0XIA2M5gqD"
      },
      "source": [
        "The number of steps represents the number of days that we would like to predict information for. In this case we've chosen 7, an entire week.\n",
        "\n",
        "To get the **expected temperatures** on each day we can do the following."
      ]
    },
    {
      "cell_type": "code",
      "execution_count": null,
      "metadata": {
        "colab": {
          "base_uri": "https://localhost:8080/",
          "height": 34
        },
        "id": "plVVG4fi55Jv",
        "outputId": "cef2d0a3-0edf-4226-ad65-43245933109f"
      },
      "outputs": [
        {
          "name": "stdout",
          "output_type": "stream",
          "text": [
            "[12.       11.1      10.83     10.748999 10.724699 10.71741  10.715222]\n"
          ]
        }
      ],
      "source": [
        "mean = model.mean()\n",
        "\n",
        "# due to the way TensorFlow works on a lower level we need to evaluate part of the graph\n",
        "# from within a session to see the value of this tensor\n",
        "\n",
        "# in the new version of tensorflow we need to use tf.compat.v1.Session() rather than just tf.Session()\n",
        "with tf.compat.v1.Session() as sess:  \n",
        "  print(mean.numpy())"
      ]
    },
    {
      "cell_type": "markdown",
      "metadata": {
        "id": "RzzUGR12AkiF"
      },
      "source": [
        "##Conclusion\n",
        "So that's it for the core learning algorithms in TensorFlow. Hopefully you've learned about a few interesting tools that are easy to use! To practice I'd encourage you to try out some of these algorithms on different datasets."
      ]
    },
    {
      "cell_type": "markdown",
      "metadata": {
        "id": "IEeIRxlbx0wY"
      },
      "source": [
        "##Sources\n",
        "\n",
        "1. Chen, James. “Line Of Best Fit.” Investopedia, Investopedia, 29 Jan. 2020, www.investopedia.com/terms/l/line-of-best-fit.asp.\n",
        "2. “Tf.feature_column.categorical_column_with_vocabulary_list.” TensorFlow, www.tensorflow.org/api_docs/python/tf/feature_column/categorical_column_with_vocabulary_list?version=stable.\n",
        "3. “Build a Linear Model with Estimators &nbsp;: &nbsp; TensorFlow Core.” TensorFlow, www.tensorflow.org/tutorials/estimator/linear.\n",
        "4. Staff, EasyBib. “The Free Automatic Bibliography Composer.” EasyBib, Chegg, 1 Jan. 2020, www.easybib.com/project/style/mla8?id=1582473656_5e52a1b8c84d52.80301186.\n",
        "5. Seif, George. “The 5 Clustering Algorithms Data Scientists Need to Know.” Medium, Towards Data Science, 14 Sept. 2019, https://towardsdatascience.com/the-5-clustering-algorithms-data-scientists-need-to-know-a36d136ef68.\n",
        "6. Definition of Hidden Markov Model, http://jedlik.phy.bme.hu/~gerjanos/HMM/node4.html.\n",
        "7. “Tfp.distributions.HiddenMarkovModel &nbsp;: &nbsp; TensorFlow Probability.” TensorFlow, www.tensorflow.org/probability/api_docs/python/tfp/distributions/HiddenMarkovModel."
      ]
    }
  ],
  "metadata": {
    "colab": {
      "collapsed_sections": [
        "sIBZww6kOIAp",
        "UQlXWErlbhsG"
      ],
      "name": "Core Learning Algorithms.ipynb",
      "provenance": []
    },
    "kernelspec": {
      "display_name": "Python 3",
      "name": "python3"
    }
  },
  "nbformat": 4,
  "nbformat_minor": 0
}
